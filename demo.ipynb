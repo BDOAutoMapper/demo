{
 "cells": [
  {
   "cell_type": "code",
   "execution_count": 1,
   "metadata": {},
   "outputs": [],
   "source": [
    "%load_ext autoreload\n",
    "%autoreload 2"
   ]
  },
  {
   "cell_type": "code",
   "execution_count": 2,
   "metadata": {},
   "outputs": [],
   "source": [
    "from pathlib import Path\n",
    "import pandas as pd\n",
    "import data_transformation as transformer\n",
    "import crewai_mapper as mapper\n",
    "import data_ingestion as ingestion"
   ]
  },
  {
   "cell_type": "code",
   "execution_count": null,
   "metadata": {},
   "outputs": [],
   "source": [
    "INPUT_PATH = Path(\"./input_data/Openstaande posten crediteuren 300423 SAP.XLSX\")\n",
    "OUTPUT_PATH = Path(\"./output_data\")"
   ]
  },
  {
   "cell_type": "code",
   "execution_count": null,
   "metadata": {},
   "outputs": [],
   "source": [
    "VALIDATION_RULES = ingestion.VALIDATION_RULES"
   ]
  },
  {
   "cell_type": "code",
   "execution_count": null,
   "metadata": {},
   "outputs": [],
   "source": [
    "df = ingestion.file_ingestion(path_dir=INPUT_PATH)"
   ]
  },
  {
   "cell_type": "code",
   "execution_count": null,
   "metadata": {},
   "outputs": [],
   "source": [
    "sub_df = transformer.transform_nonstandard_SAP(df=df, new_column_name=\"Cust. name\")\n",
    "csv =sub_df.head(10).to_csv(sep=',')"
   ]
  },
  {
   "cell_type": "code",
   "execution_count": null,
   "metadata": {},
   "outputs": [],
   "source": [
    "DESTINATION_COLUMNS = VALIDATION_RULES[\"parametres\"][\"names\"]\n",
    "SOURCE_COLUMNS = sub_df.columns.to_list()\n",
    "TO_DISCARD = VALIDATION_RULES[\"parametres\"][\"to_discard\"]"
   ]
  },
  {
   "cell_type": "code",
   "execution_count": null,
   "metadata": {},
   "outputs": [],
   "source": [
    "response = mapper.get_mapping(expected=DESTINATION_COLUMNS, input=csv)"
   ]
  },
  {
   "cell_type": "code",
   "execution_count": null,
   "metadata": {},
   "outputs": [],
   "source": [
    "source_columns = transformer.extract_substrings(response, SOURCE_COLUMNS)\n",
    "destination_columns = transformer.extract_substrings(response, DESTINATION_COLUMNS)"
   ]
  },
  {
   "cell_type": "code",
   "execution_count": null,
   "metadata": {},
   "outputs": [],
   "source": [
    "source = list(dict.fromkeys(source_columns))\n",
    "dest = list(dict.fromkeys(destination_columns))"
   ]
  },
  {
   "cell_type": "code",
   "execution_count": null,
   "metadata": {},
   "outputs": [],
   "source": [
    "source"
   ]
  },
  {
   "cell_type": "code",
   "execution_count": null,
   "metadata": {},
   "outputs": [],
   "source": [
    "dest"
   ]
  },
  {
   "cell_type": "code",
   "execution_count": null,
   "metadata": {},
   "outputs": [],
   "source": [
    "mapping = dict(zip(source, dest))"
   ]
  },
  {
   "cell_type": "code",
   "execution_count": null,
   "metadata": {},
   "outputs": [],
   "source": [
    "mapped_df = transformer.mapper(mapping=mapping, to_discard=TO_DISCARD, df=df)"
   ]
  },
  {
   "cell_type": "code",
   "execution_count": null,
   "metadata": {},
   "outputs": [],
   "source": [
    "try:\n",
    "    df = df.rename(columns=mapping)\n",
    "    for col in TO_DISCARD:\n",
    "        try:\n",
    "            df = df.drop(columns=[col])\n",
    "        except KeyError:\n",
    "            print(f\"Column '{col}' not found in the DataFrame and will be skipped.\")\n",
    "except KeyError as e:\n",
    "    print(f\"Error: {e}\")\n",
    "    print(\"Please check the column names in the mapping dictionary and to_discard list.\")"
   ]
  },
  {
   "cell_type": "code",
   "execution_count": null,
   "metadata": {},
   "outputs": [],
   "source": [
    "print(mapped_df)"
   ]
  },
  {
   "cell_type": "code",
   "execution_count": null,
   "metadata": {},
   "outputs": [],
   "source": []
  }
 ],
 "metadata": {
  "kernelspec": {
   "display_name": ".venv",
   "language": "python",
   "name": "python3"
  },
  "language_info": {
   "codemirror_mode": {
    "name": "ipython",
    "version": 3
   },
   "file_extension": ".py",
   "mimetype": "text/x-python",
   "name": "python",
   "nbconvert_exporter": "python",
   "pygments_lexer": "ipython3",
   "version": "3.11.0"
  }
 },
 "nbformat": 4,
 "nbformat_minor": 2
}
