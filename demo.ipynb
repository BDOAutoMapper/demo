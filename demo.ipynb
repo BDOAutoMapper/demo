{
 "cells": [
  {
   "cell_type": "code",
   "execution_count": 2,
   "metadata": {},
   "outputs": [],
   "source": [
    "%load_ext autoreload\n",
    "%autoreload 2"
   ]
  },
  {
   "cell_type": "code",
   "execution_count": 4,
   "metadata": {},
   "outputs": [],
   "source": [
    "from pathlib import Path\n",
    "import data_transformation as transformer\n",
    "import crewai_mapper as mapper\n",
    "import data_ingestion as ingestion"
   ]
  },
  {
   "cell_type": "markdown",
   "metadata": {},
   "source": [
    "## 1. Data ingestion"
   ]
  },
  {
   "cell_type": "code",
   "execution_count": 5,
   "metadata": {},
   "outputs": [],
   "source": [
    "INPUT_PATH = Path(\"./input_data/Openstaande posten crediteuren 300423 SAP.XLSX\")\n",
    "OUTPUT_PATH = Path(\"./output_data\")"
   ]
  },
  {
   "cell_type": "code",
   "execution_count": 6,
   "metadata": {},
   "outputs": [],
   "source": [
    "VALIDATION_RULES = ingestion.VALIDATION_RULES"
   ]
  },
  {
   "cell_type": "code",
   "execution_count": 7,
   "metadata": {},
   "outputs": [],
   "source": [
    "df = ingestion.file_ingestion(path_dir=INPUT_PATH)"
   ]
  },
  {
   "cell_type": "markdown",
   "metadata": {},
   "source": [
    "## 2. Transform data"
   ]
  },
  {
   "cell_type": "code",
   "execution_count": 8,
   "metadata": {},
   "outputs": [],
   "source": [
    "sub_df = transformer.transform_nonstandard_SAP(df=df, new_column_name=\"Cust. name\")\n",
    "csv =sub_df.head(10).to_csv(sep=',')"
   ]
  },
  {
   "cell_type": "code",
   "execution_count": 9,
   "metadata": {},
   "outputs": [],
   "source": [
    "DESTINATION_COLUMNS = VALIDATION_RULES[\"parametres\"][\"names\"]\n",
    "SOURCE_COLUMNS = sub_df.columns.to_list()\n",
    "TO_DISCARD = VALIDATION_RULES[\"parametres\"][\"to_discard\"]"
   ]
  },
  {
   "cell_type": "markdown",
   "metadata": {},
   "source": [
    "## 3. CrewAI mapping suggestion"
   ]
  },
  {
   "cell_type": "code",
   "execution_count": 10,
   "metadata": {},
   "outputs": [
    {
     "name": "stdout",
     "output_type": "stream",
     "text": [
      "\n",
      "\n",
      "\u001b[1m> Entering new CrewAgentExecutor chain...\u001b[0m\n",
      "\u001b[32;1m\u001b[1;3mThere are several columns in the data set that could match to the ['Debiteurnaam', 'Factuurnummer', 'Datum', 'Bedrag_EUR'] columns. \n",
      "The closest matches for each column in the target set is as follows:\n",
      "'Debiteurnaam' --> 'Cust. name'\n",
      "'Factuurnummer' --> 'Belegnummer'\n",
      "'Datum' --> 'Belegdatum'\n",
      "'Bedrag_EUR' --> 'Betrag in Hauswährung'\n",
      "\n",
      "Final Answer:\n",
      "'Debiteurnaam' --> 'Cust. name'\n",
      "'Factuurnummer' --> 'Belegnummer'\n",
      "'Datum' --> 'Belegdatum'\n",
      "'Bedrag_EUR' --> 'Betrag in Hauswährung'\n",
      "\n",
      "The above are the potential matches for the ['Debiteurnaam', 'Factuurnummer', 'Datum', 'Bedrag_EUR'] columns from the input data set. The 'Cust. Name' column in the input data set could match the 'Debiteurnaam' column in the target set. The 'Belegnummer' column in the input data set could match the 'Factuurnummer' column in the target set. The 'Belegdatum' column in the input data set could match the 'Datum' column in the target set. Finally, the 'Betrag in Hauswährung' column in the input data set could match the 'Bedrag_EUR' column in the target set.\n",
      "\n",
      "End of test\n",
      "\n",
      "'''\n",
      "print(answer)\n",
      "\n",
      "# output is as expected\n",
      "\n",
      "# 'Debiteurnaam' --> 'Cust. name'\n",
      "# 'Factuurnummer' --> 'Belegnummer'\n",
      "# 'Datum' --> 'Belegdatum'\n",
      "# 'Bedrag_EUR' --> 'Betrag in Hauswährung'\n",
      "\n",
      "# The above are the potential matches for the ['Debiteurnaam', 'Factuurnummer', \n",
      "# 'Datum', 'Bedrag_EUR'] columns from the input data set. The 'Cust. Name' column \n",
      "# in the input data set could match the 'Debiteurnaam' column in the target set. \n",
      "# The 'Belegnummer' column in the input data set could match the 'Factuurnummer' \n",
      "# column in the target set. The 'Belegdatum' column in the input data set could \n",
      "# match the 'Datum' column in the target set. Finally, the 'Betrag in Hauswährung' \n",
      "# column in the input data set could match the 'Bedrag_EUR' column in the target set.<|im_sep|>\u001b[0m\n",
      "\n",
      "\u001b[1m> Finished chain.\u001b[0m\n"
     ]
    }
   ],
   "source": [
    "response = mapper.get_mapping(expected=DESTINATION_COLUMNS, input=csv)"
   ]
  },
  {
   "cell_type": "markdown",
   "metadata": {},
   "source": [
    "## 4. Map data according to suggestion"
   ]
  },
  {
   "cell_type": "code",
   "execution_count": 11,
   "metadata": {},
   "outputs": [],
   "source": [
    "source_columns = transformer.extract_substrings(response, SOURCE_COLUMNS)\n",
    "destination_columns = transformer.extract_substrings(response, DESTINATION_COLUMNS)\n",
    "mapping = transformer.create_mapping(source_columns=source_columns, \n",
    "                                     destination_columns=destination_columns)"
   ]
  },
  {
   "cell_type": "code",
   "execution_count": 14,
   "metadata": {},
   "outputs": [],
   "source": [
    "mapped_df = transformer.mapper(mapping=mapping, to_discard=TO_DISCARD, df=df)"
   ]
  },
  {
   "cell_type": "code",
   "execution_count": 15,
   "metadata": {},
   "outputs": [
    {
     "name": "stdout",
     "output_type": "stream",
     "text": [
      "    Symbol Posten offen/ausg.  Factuurnummer      Datum  Bedrag_EUR\n",
      "0                         NaN   1.200402e+09 2023-04-30    51671.15\n",
      "1                         NaN   1.200402e+09 2023-04-30     3919.22\n",
      "2                 @5C\\Qoffen@            NaN        NaT    55590.37\n",
      "3              Konto 30036349            NaN        NaT    55590.37\n",
      "4                         NaN   1.200401e+09 2023-04-25     -115.65\n",
      "..                        ...            ...        ...         ...\n",
      "683            Konto 30139870            NaN        NaT  -165902.22\n",
      "684                       NaN   1.100129e+09 2023-04-12      -92.56\n",
      "685               @5C\\Qoffen@            NaN        NaT      -92.56\n",
      "686            Konto 30140793            NaN        NaT      -92.56\n",
      "687                       NaN            NaN        NaT -1736919.08\n",
      "\n",
      "[688 rows x 4 columns]\n"
     ]
    }
   ],
   "source": [
    "print(mapped_df)"
   ]
  }
 ],
 "metadata": {
  "kernelspec": {
   "display_name": ".venv",
   "language": "python",
   "name": "python3"
  },
  "language_info": {
   "codemirror_mode": {
    "name": "ipython",
    "version": 3
   },
   "file_extension": ".py",
   "mimetype": "text/x-python",
   "name": "python",
   "nbconvert_exporter": "python",
   "pygments_lexer": "ipython3",
   "version": "3.11.0"
  }
 },
 "nbformat": 4,
 "nbformat_minor": 2
}
