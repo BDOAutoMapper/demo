{
 "cells": [
  {
   "cell_type": "code",
   "execution_count": 1,
   "metadata": {},
   "outputs": [],
   "source": [
    "%load_ext autoreload\n",
    "%autoreload 2"
   ]
  },
  {
   "cell_type": "code",
   "execution_count": 2,
   "metadata": {},
   "outputs": [],
   "source": [
    "from pathlib import Path\n",
    "import pandas as pd\n",
    "import data_transformation as transformer\n",
    "import crewai_mapper as mapper"
   ]
  },
  {
   "cell_type": "code",
   "execution_count": 3,
   "metadata": {},
   "outputs": [],
   "source": [
    "INPUT_PATH = Path(\"./input_data\")\n",
    "OUTPUT_PATH = Path(\"./output_data\")"
   ]
  },
  {
   "cell_type": "markdown",
   "metadata": {},
   "source": [
    "## BDO Employee Provides a set of rules for the Automapper: \n",
    "1. What is the expected information? Which columns should we map on?\n",
    "2. What is the Excel format? Is it an SAP extract?\n",
    "3. What information can be discarded for certain?"
   ]
  },
  {
   "cell_type": "code",
   "execution_count": 4,
   "metadata": {},
   "outputs": [],
   "source": [
    "VALIDATION_RULES = {\n",
    "                    \"parametres\": {\n",
    "                        \"names\": [\"Debiteurnaam\", \"Factuurnummer\", \"Datum\", \"Bedrag_EUR\"],\n",
    "                        \"pandas_formatting\": [\"SAP\"],\n",
    "                        \"formatting-SAP\": \"Cust. Name\",\n",
    "                        \"to_discard\": [\n",
    "                            \"Belegart\",\n",
    "                            \"Sonderhauptb.Kennz.\",\n",
    "                            \"Symbol Nettofälligkeit\",\n",
    "                            \"Text\",\n",
    "                            \"Hauswährung\",\n",
    "                            \"Ausgleichsbeleg\",\n",
    "                            \"Zuordnung\"\n",
    "                            ],\n",
    "                    }\n",
    "                }"
   ]
  },
  {
   "cell_type": "markdown",
   "metadata": {},
   "source": [
    "## BDO Employee Provides a file to map from. In this case it's an SAP data extract, with a non-standard table format:"
   ]
  },
  {
   "cell_type": "code",
   "execution_count": 5,
   "metadata": {},
   "outputs": [
    {
     "data": {
      "text/html": [
       "<div>\n",
       "<style scoped>\n",
       "    .dataframe tbody tr th:only-of-type {\n",
       "        vertical-align: middle;\n",
       "    }\n",
       "\n",
       "    .dataframe tbody tr th {\n",
       "        vertical-align: top;\n",
       "    }\n",
       "\n",
       "    .dataframe thead th {\n",
       "        text-align: right;\n",
       "    }\n",
       "</style>\n",
       "<table border=\"1\" class=\"dataframe\">\n",
       "  <thead>\n",
       "    <tr style=\"text-align: right;\">\n",
       "      <th></th>\n",
       "      <th>Symbol Posten offen/ausg.</th>\n",
       "      <th>Zuordnung</th>\n",
       "      <th>Belegnummer</th>\n",
       "      <th>Belegart</th>\n",
       "      <th>Belegdatum</th>\n",
       "      <th>Sonderhauptb.Kennz.</th>\n",
       "      <th>Symbol Nettofälligkeit</th>\n",
       "      <th>Betrag in Hauswährung</th>\n",
       "      <th>Hauswährung</th>\n",
       "      <th>Ausgleichsbeleg</th>\n",
       "      <th>Text</th>\n",
       "    </tr>\n",
       "  </thead>\n",
       "  <tbody>\n",
       "    <tr>\n",
       "      <th>0</th>\n",
       "      <td>NaN</td>\n",
       "      <td>6090466822</td>\n",
       "      <td>1.200402e+09</td>\n",
       "      <td>RE</td>\n",
       "      <td>2023-04-30</td>\n",
       "      <td>NaN</td>\n",
       "      <td>NaN</td>\n",
       "      <td>51671.15</td>\n",
       "      <td>EUR</td>\n",
       "      <td>NaN</td>\n",
       "      <td>NaN</td>\n",
       "    </tr>\n",
       "    <tr>\n",
       "      <th>1</th>\n",
       "      <td>NaN</td>\n",
       "      <td>6090466823</td>\n",
       "      <td>1.200402e+09</td>\n",
       "      <td>RE</td>\n",
       "      <td>2023-04-30</td>\n",
       "      <td>NaN</td>\n",
       "      <td>NaN</td>\n",
       "      <td>3919.22</td>\n",
       "      <td>EUR</td>\n",
       "      <td>NaN</td>\n",
       "      <td>NaN</td>\n",
       "    </tr>\n",
       "    <tr>\n",
       "      <th>2</th>\n",
       "      <td>@5C\\Qoffen@</td>\n",
       "      <td>NaN</td>\n",
       "      <td>NaN</td>\n",
       "      <td>NaN</td>\n",
       "      <td>NaT</td>\n",
       "      <td>NaN</td>\n",
       "      <td>NaN</td>\n",
       "      <td>55590.37</td>\n",
       "      <td>EUR</td>\n",
       "      <td>NaN</td>\n",
       "      <td>NaN</td>\n",
       "    </tr>\n",
       "    <tr>\n",
       "      <th>3</th>\n",
       "      <td>Konto 30036349</td>\n",
       "      <td>NaN</td>\n",
       "      <td>NaN</td>\n",
       "      <td>NaN</td>\n",
       "      <td>NaT</td>\n",
       "      <td>NaN</td>\n",
       "      <td>NaN</td>\n",
       "      <td>55590.37</td>\n",
       "      <td>EUR</td>\n",
       "      <td>NaN</td>\n",
       "      <td>NaN</td>\n",
       "    </tr>\n",
       "    <tr>\n",
       "      <th>4</th>\n",
       "      <td>NaN</td>\n",
       "      <td>9503325616</td>\n",
       "      <td>1.200401e+09</td>\n",
       "      <td>RE</td>\n",
       "      <td>2023-04-25</td>\n",
       "      <td>NaN</td>\n",
       "      <td>NaN</td>\n",
       "      <td>-115.65</td>\n",
       "      <td>EUR</td>\n",
       "      <td>1.600014e+09</td>\n",
       "      <td>NaN</td>\n",
       "    </tr>\n",
       "  </tbody>\n",
       "</table>\n",
       "</div>"
      ],
      "text/plain": [
       "  Symbol Posten offen/ausg.   Zuordnung   Belegnummer Belegart Belegdatum  \\\n",
       "0                       NaN  6090466822  1.200402e+09       RE 2023-04-30   \n",
       "1                       NaN  6090466823  1.200402e+09       RE 2023-04-30   \n",
       "2               @5C\\Qoffen@         NaN           NaN      NaN        NaT   \n",
       "3            Konto 30036349         NaN           NaN      NaN        NaT   \n",
       "4                       NaN  9503325616  1.200401e+09       RE 2023-04-25   \n",
       "\n",
       "   Sonderhauptb.Kennz.  Symbol Nettofälligkeit  Betrag in Hauswährung  \\\n",
       "0                  NaN                     NaN               51671.15   \n",
       "1                  NaN                     NaN                3919.22   \n",
       "2                  NaN                     NaN               55590.37   \n",
       "3                  NaN                     NaN               55590.37   \n",
       "4                  NaN                     NaN                -115.65   \n",
       "\n",
       "  Hauswährung  Ausgleichsbeleg Text  \n",
       "0         EUR              NaN  NaN  \n",
       "1         EUR              NaN  NaN  \n",
       "2         EUR              NaN  NaN  \n",
       "3         EUR              NaN  NaN  \n",
       "4         EUR     1.600014e+09  NaN  "
      ]
     },
     "execution_count": 5,
     "metadata": {},
     "output_type": "execute_result"
    }
   ],
   "source": [
    "assert INPUT_PATH.exists()\n",
    "df = pd.read_excel(INPUT_PATH / \"Openstaande posten crediteuren 300423 SAP.XLSX\")\n",
    "df.head(5)"
   ]
  },
  {
   "cell_type": "code",
   "execution_count": 7,
   "metadata": {},
   "outputs": [],
   "source": [
    "DESTINATION_COLUMNS = VALIDATION_RULES[\"parametres\"][\"names\"]\n",
    "SOURCE_COLUMNS = df.columns.to_list()\n",
    "TO_DISCARD = VALIDATION_RULES[\"parametres\"][\"to_discard\"]"
   ]
  },
  {
   "cell_type": "code",
   "execution_count": 8,
   "metadata": {},
   "outputs": [],
   "source": [
    "sub_df = transformer.transform_nonstandard_SAP(df=df, new_column_name=\"Cust. name\")"
   ]
  },
  {
   "cell_type": "code",
   "execution_count": 9,
   "metadata": {},
   "outputs": [],
   "source": [
    "csv =sub_df.head(10).to_csv(sep=',')"
   ]
  },
  {
   "cell_type": "code",
   "execution_count": null,
   "metadata": {},
   "outputs": [],
   "source": [
    "{\"cust.name\": \"text\"}"
   ]
  },
  {
   "cell_type": "code",
   "execution_count": 10,
   "metadata": {},
   "outputs": [
    {
     "name": "stdout",
     "output_type": "stream",
     "text": [
      "\n",
      "\n",
      "\u001b[1m> Entering new CrewAgentExecutor chain...\u001b[0m\n",
      "\u001b[32;1m\u001b[1;3mI need to understand what are the meaning of the columns in the dataset. The input data seems to be in German, but the expected columns are in Dutch. \n",
      "\n",
      "1. 'Debiteurnaam' and 'Cust. name' seems to be the same thing. The first is in Dutch and the second in English. \n",
      "\n",
      "2. 'Factuurnummer' = 'Belegnummer'\n",
      "\n",
      "3. 'Datum' = 'Belegdatum'\n",
      "\n",
      "4. 'Bedrag_EUR' is related to 'Betrag in Hauswährung' but I need to understand if there is any transformation or just a name difference.\n",
      "\n",
      "Final Answer:\n",
      "\n",
      "Cust. name --> dataset_column:  Text\n",
      "\n",
      "Belegnummer --> dataset_column:  Factuurnummer\n",
      "\n",
      "Belegdatum --> dataset_column:  Belegdatum\n",
      "\n",
      "Betrag in Hauswährung --> dataset_column:  Bedrag_EUR\n",
      "\n",
      "Note: the name of the dataset columns are in German, but I used the English translation for the sake of the task. \n",
      "\n",
      "I decided to return the actual complete content as the final answer, as requested. But I think it would be more useful to return a summary, in case of a large dataset. I could use a dictionary, for example.\n",
      "\n",
      "\"\"\"{'Debiteurnaam': 'Cust. name',\n",
      " 'Factuurnummer': 'Belegnummer',\n",
      " 'Datum': 'Belegdatum',\n",
      " 'Bedrag_EUR': 'Betrag in Hauswährung'}\"\"\" <|im_end|>\u001b[0m\n",
      "\n",
      "\u001b[1m> Finished chain.\u001b[0m\n"
     ]
    }
   ],
   "source": [
    "response = mapper.get_mapping(expected=DESTINATION_COLUMNS, input=csv)"
   ]
  },
  {
   "cell_type": "code",
   "execution_count": 15,
   "metadata": {},
   "outputs": [],
   "source": [
    "source_columns = transformer.extract_substrings(response, SOURCE_COLUMNS)\n",
    "destination_columns = transformer.extract_substrings(response, DESTINATION_COLUMNS)"
   ]
  },
  {
   "cell_type": "code",
   "execution_count": 12,
   "metadata": {},
   "outputs": [],
   "source": [
    "mapping = dict(zip(source_columns, destination_columns))"
   ]
  },
  {
   "cell_type": "code",
   "execution_count": 13,
   "metadata": {},
   "outputs": [
    {
     "name": "stdout",
     "output_type": "stream",
     "text": [
      "Column 'Text' not found in the DataFrame and will be skipped.\n"
     ]
    }
   ],
   "source": [
    "try:\n",
    "    df = df.rename(columns=mapping)\n",
    "    for col in TO_DISCARD:\n",
    "        try:\n",
    "            df = df.drop(columns=[col])\n",
    "        except KeyError:\n",
    "            print(f\"Column '{col}' not found in the DataFrame and will be skipped.\")\n",
    "except KeyError as e:\n",
    "    print(f\"Error: {e}\")\n",
    "    print(\"Please check the column names in the mapping dictionary and to_discard list.\")"
   ]
  },
  {
   "cell_type": "code",
   "execution_count": 14,
   "metadata": {},
   "outputs": [
    {
     "data": {
      "text/html": [
       "<div>\n",
       "<style scoped>\n",
       "    .dataframe tbody tr th:only-of-type {\n",
       "        vertical-align: middle;\n",
       "    }\n",
       "\n",
       "    .dataframe tbody tr th {\n",
       "        vertical-align: top;\n",
       "    }\n",
       "\n",
       "    .dataframe thead th {\n",
       "        text-align: right;\n",
       "    }\n",
       "</style>\n",
       "<table border=\"1\" class=\"dataframe\">\n",
       "  <thead>\n",
       "    <tr style=\"text-align: right;\">\n",
       "      <th></th>\n",
       "      <th>Symbol Posten offen/ausg.</th>\n",
       "      <th>Bedrag_EUR</th>\n",
       "      <th>Factuurnummer</th>\n",
       "      <th>Datum</th>\n",
       "      <th>Factuurnummer</th>\n",
       "    </tr>\n",
       "  </thead>\n",
       "  <tbody>\n",
       "    <tr>\n",
       "      <th>0</th>\n",
       "      <td>NaN</td>\n",
       "      <td>1.200402e+09</td>\n",
       "      <td>2023-04-30</td>\n",
       "      <td>51671.15</td>\n",
       "      <td>NaN</td>\n",
       "    </tr>\n",
       "    <tr>\n",
       "      <th>1</th>\n",
       "      <td>NaN</td>\n",
       "      <td>1.200402e+09</td>\n",
       "      <td>2023-04-30</td>\n",
       "      <td>3919.22</td>\n",
       "      <td>NaN</td>\n",
       "    </tr>\n",
       "    <tr>\n",
       "      <th>2</th>\n",
       "      <td>@5C\\Qoffen@</td>\n",
       "      <td>NaN</td>\n",
       "      <td>NaT</td>\n",
       "      <td>55590.37</td>\n",
       "      <td>NaN</td>\n",
       "    </tr>\n",
       "    <tr>\n",
       "      <th>3</th>\n",
       "      <td>Konto 30036349</td>\n",
       "      <td>NaN</td>\n",
       "      <td>NaT</td>\n",
       "      <td>55590.37</td>\n",
       "      <td>NaN</td>\n",
       "    </tr>\n",
       "    <tr>\n",
       "      <th>4</th>\n",
       "      <td>NaN</td>\n",
       "      <td>1.200401e+09</td>\n",
       "      <td>2023-04-25</td>\n",
       "      <td>-115.65</td>\n",
       "      <td>NaN</td>\n",
       "    </tr>\n",
       "    <tr>\n",
       "      <th>...</th>\n",
       "      <td>...</td>\n",
       "      <td>...</td>\n",
       "      <td>...</td>\n",
       "      <td>...</td>\n",
       "      <td>...</td>\n",
       "    </tr>\n",
       "    <tr>\n",
       "      <th>683</th>\n",
       "      <td>Konto 30139870</td>\n",
       "      <td>NaN</td>\n",
       "      <td>NaT</td>\n",
       "      <td>-165902.22</td>\n",
       "      <td>NaN</td>\n",
       "    </tr>\n",
       "    <tr>\n",
       "      <th>684</th>\n",
       "      <td>NaN</td>\n",
       "      <td>1.100129e+09</td>\n",
       "      <td>2023-04-12</td>\n",
       "      <td>-92.56</td>\n",
       "      <td>Jumbo-1283362112 keuken/kantoor</td>\n",
       "    </tr>\n",
       "    <tr>\n",
       "      <th>685</th>\n",
       "      <td>@5C\\Qoffen@</td>\n",
       "      <td>NaN</td>\n",
       "      <td>NaT</td>\n",
       "      <td>-92.56</td>\n",
       "      <td>NaN</td>\n",
       "    </tr>\n",
       "    <tr>\n",
       "      <th>686</th>\n",
       "      <td>Konto 30140793</td>\n",
       "      <td>NaN</td>\n",
       "      <td>NaT</td>\n",
       "      <td>-92.56</td>\n",
       "      <td>NaN</td>\n",
       "    </tr>\n",
       "    <tr>\n",
       "      <th>687</th>\n",
       "      <td>NaN</td>\n",
       "      <td>NaN</td>\n",
       "      <td>NaT</td>\n",
       "      <td>-1736919.08</td>\n",
       "      <td>NaN</td>\n",
       "    </tr>\n",
       "  </tbody>\n",
       "</table>\n",
       "<p>688 rows × 5 columns</p>\n",
       "</div>"
      ],
      "text/plain": [
       "    Symbol Posten offen/ausg.    Bedrag_EUR Factuurnummer       Datum  \\\n",
       "0                         NaN  1.200402e+09    2023-04-30    51671.15   \n",
       "1                         NaN  1.200402e+09    2023-04-30     3919.22   \n",
       "2                 @5C\\Qoffen@           NaN           NaT    55590.37   \n",
       "3              Konto 30036349           NaN           NaT    55590.37   \n",
       "4                         NaN  1.200401e+09    2023-04-25     -115.65   \n",
       "..                        ...           ...           ...         ...   \n",
       "683            Konto 30139870           NaN           NaT  -165902.22   \n",
       "684                       NaN  1.100129e+09    2023-04-12      -92.56   \n",
       "685               @5C\\Qoffen@           NaN           NaT      -92.56   \n",
       "686            Konto 30140793           NaN           NaT      -92.56   \n",
       "687                       NaN           NaN           NaT -1736919.08   \n",
       "\n",
       "                       Factuurnummer  \n",
       "0                                NaN  \n",
       "1                                NaN  \n",
       "2                                NaN  \n",
       "3                                NaN  \n",
       "4                                NaN  \n",
       "..                               ...  \n",
       "683                              NaN  \n",
       "684  Jumbo-1283362112 keuken/kantoor  \n",
       "685                              NaN  \n",
       "686                              NaN  \n",
       "687                              NaN  \n",
       "\n",
       "[688 rows x 5 columns]"
      ]
     },
     "execution_count": 14,
     "metadata": {},
     "output_type": "execute_result"
    }
   ],
   "source": [
    "df"
   ]
  }
 ],
 "metadata": {
  "kernelspec": {
   "display_name": ".venv",
   "language": "python",
   "name": "python3"
  },
  "language_info": {
   "codemirror_mode": {
    "name": "ipython",
    "version": 3
   },
   "file_extension": ".py",
   "mimetype": "text/x-python",
   "name": "python",
   "nbconvert_exporter": "python",
   "pygments_lexer": "ipython3",
   "version": "3.11.0"
  }
 },
 "nbformat": 4,
 "nbformat_minor": 2
}
